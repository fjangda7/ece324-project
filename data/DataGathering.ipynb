{
  "nbformat": 4,
  "nbformat_minor": 0,
  "metadata": {
    "colab": {
      "name": "DataGathering.ipynb",
      "provenance": [],
      "collapsed_sections": []
    },
    "kernelspec": {
      "name": "python3",
      "display_name": "Python 3"
    },
    "language_info": {
      "name": "python"
    }
  },
  "cells": [
    {
      "cell_type": "markdown",
      "source": [
        "ECE324 \n",
        "Classifying Movie Genres\n"
      ],
      "metadata": {
        "id": "Jff07hl61MZZ"
      }
    },
    {
      "cell_type": "markdown",
      "source": [
        "# Data gathering"
      ],
      "metadata": {
        "id": "JNoxkQen1wuD"
      }
    },
    {
      "cell_type": "markdown",
      "source": [
        "The code that is commented below is simply showing how we obtained data from Kaggle, but as we have added the data csvs to our repository, this does not need to be run. "
      ],
      "metadata": {
        "id": "a_XcOdjoKgZH"
      }
    },
    {
      "cell_type": "markdown",
      "source": [
        "Set up to extract data from Kaggle is from the code in this website: https://www.analyticsvidhya.com/blog/2021/06/how-to-load-kaggle-datasets-directly-into-google-colab/ "
      ],
      "metadata": {
        "id": "3EBl9X9yDJjN"
      }
    },
    {
      "cell_type": "code",
      "source": [
        "# set up kaggle to get data \n",
        "# only need to run once and use your personal kaggle api key (need to load kaggle.json to files)\n",
        "! pip install -q kaggle\n",
        "! mkdir ~/.kaggle\n",
        "! cp /kaggle.json ~/.kaggle/ # contains personal kaggle api key\n",
        "! chmod 600 ~/.kaggle/kaggle.json"
      ],
      "metadata": {
        "id": "O-I-UmpjC-ie"
      },
      "execution_count": null,
      "outputs": []
    },
    {
      "cell_type": "code",
      "execution_count": null,
      "metadata": {
        "id": "TB2XN0AP05AE",
        "colab": {
          "base_uri": "https://localhost:8080/"
        },
        "outputId": "c108d271-5e08-4ba7-a9d9-809f8923233f"
      },
      "outputs": [
        {
          "output_type": "stream",
          "name": "stdout",
          "text": [
            "Downloading movies_metadata.csv.zip to /content\n",
            " 98% 12.0M/12.2M [00:00<00:00, 38.8MB/s]\n",
            "100% 12.2M/12.2M [00:00<00:00, 41.4MB/s]\n",
            "Downloading netflix-movies-and-tv-shows-2021.zip to /content\n",
            "  0% 0.00/1.07M [00:00<?, ?B/s]\n",
            "100% 1.07M/1.07M [00:00<00:00, 53.4MB/s]\n",
            "Downloading imdb-dataset-of-top-1000-movies-and-tv-shows.zip to /content\n",
            "  0% 0.00/175k [00:00<?, ?B/s]\n",
            "100% 175k/175k [00:00<00:00, 46.0MB/s]\n"
          ]
        }
      ],
      "source": [
        "# Movies dataset\n",
        "! kaggle datasets download -d rounakbanik/the-movies-dataset -f movies_metadata.csv\n",
        "# Netflix dataset\n",
        "! kaggle datasets download -d satpreetmakhija/netflix-movies-and-tv-shows-2021\n",
        "# IMDB Movies dataset\n",
        "! kaggle datasets download -d harshitshankhdhar/imdb-dataset-of-top-1000-movies-and-tv-shows"
      ]
    },
    {
      "cell_type": "markdown",
      "source": [
        "Below code is used to get data for training and testing our models. "
      ],
      "metadata": {
        "id": "mrTjlbR_ThlP"
      }
    },
    {
      "cell_type": "code",
      "source": [
        "# unzip files \n",
        "! unzip movies_metadata.csv.zip\n",
        "! unzip netflix-movies-and-tv-shows-2021.zip\n",
        "! unzip imdb-dataset-of-top-1000-movies-and-tv-shows.zip"
      ],
      "metadata": {
        "colab": {
          "base_uri": "https://localhost:8080/"
        },
        "id": "QthWjRLFKQR9",
        "outputId": "192e8c5a-f0d0-4bb5-9c6c-96fc1e54e26b"
      },
      "execution_count": null,
      "outputs": [
        {
          "output_type": "stream",
          "name": "stdout",
          "text": [
            "Archive:  movies_metadata.csv.zip\n",
            "  inflating: movies_metadata.csv     \n",
            "Archive:  netflix-movies-and-tv-shows-2021.zip\n",
            "  inflating: netflixData.csv         \n",
            "Archive:  imdb-dataset-of-top-1000-movies-and-tv-shows.zip\n",
            "  inflating: imdb_top_1000.csv       \n"
          ]
        }
      ]
    },
    {
      "cell_type": "markdown",
      "source": [
        "Extract relevant data from csvs\n"
      ],
      "metadata": {
        "id": "SdflW7NyLHpJ"
      }
    },
    {
      "cell_type": "code",
      "source": [
        "import pandas as pd \n",
        "import json\n",
        "\n",
        "def extract_genre(x):\n",
        "  \"\"\"\n",
        "  Helper function for extracting genre from the Kaggle Movies dataset\n",
        "  \"\"\"\n",
        "  for i in range(len(x)):\n",
        "    x[i] = x[i]['name']\n",
        "  return x\n",
        "\n",
        "# Movies dataset (movies_metadata.csv)\n",
        "# we want features: 'genres' (label), 'overview' (input)\n",
        "df_1 = pd.read_csv('movies_metadata.csv',low_memory = False) # low_memory is set to False to avoid dtype warning\n",
        "# print(df_1.columns)\n",
        "input_1 = df_1['overview']\n",
        "output_1 = df_1['genres']\n",
        "\n",
        "# data in kaggle dataset is in the form: '[{'id': 12, 'name': 'Adventure'},..'\n",
        "# we want to extract the name of genres to a list of the form: ['Adventure',..]\n",
        "output_1 = output_1.apply(lambda x: json.loads(x.replace(\"'\", '\"'))) # make the string into a list of dictionaries\n",
        "output_1 = output_1.apply(extract_genre) # get the genre from the dictionaries\n",
        "\n",
        "# split output into 3 genres\n",
        "# output_1 = pd.DataFrame(output_1.tolist())\n",
        "o_1 = pd.DataFrame((pd.DataFrame(output_1.tolist())).iloc[:,:3])#,columns = ['genre1','genre2','genre3'],dtype='string')\n",
        "print(o_1)\n",
        "# print(len(input_1.index)) # size of dataset\n",
        "# print(output_1[1]) # example genre output\n",
        "\n",
        "# Netflix dataset (netflixData.csv)\n",
        "# features: 'genres' (label), 'description' (input)\n",
        "df_2 = pd.read_csv('netflixData.csv')\n",
        "# print(df_2.columns)\n",
        "input_2 = df_2['Description']\n",
        "output_2 = df_2['Genres']\n",
        "\n",
        "output_2 = output_2.str.split(', ') # make genres a list\n",
        "# output_2 = pd.DataFrame(output_2.tolist())\n",
        "# output_2 = output_2.iloc[:,:3]\n",
        "o_2 = pd.DataFrame((pd.DataFrame(output_2.tolist())).iloc[:,:3])#,columns = ['genre1','genre2','genre3'])\n",
        "\n",
        "# print(len(input_2.index)) # size of dataset\n",
        "# print(output_2[2]) # example genre output\n",
        "\n",
        "# IMDB dataset (imdb_top_1000.csv)\n",
        "# features: 'Genre' (label), 'Overview' (input)\n",
        "df_3 = pd.read_csv('imdb_top_1000.csv')\n",
        "# print(df_3.columns)\n",
        "input_3 = df_3['Overview']\n",
        "output_3 = df_3['Genre']\n",
        "\n",
        "output_3 = output_3.str.split(', ') # make genres a list\n",
        "# output_3 = pd.DataFrame(output_3.tolist())\n",
        "# output_3 = output_3.iloc[:,:3]\n",
        "o_3 = pd.DataFrame((pd.DataFrame(output_3.tolist())).iloc[:,:3])#,columns = ['genre1','genre2','genre3'])\n",
        "# print(len(input_3.index)) # size of dataset\n",
        "# print(output_3[1]) # example genre output\n",
        "\n",
        "# Human classification dataset (human_classification_training.csv)\n",
        "df_4 = pd.read_csv('human_classification_training.csv')\n",
        "# print(df_4.columns)\n",
        "input_4 = df_4['Synopsis']\n",
        "output_4 = df_4['Genre']\n",
        "\n",
        "output_4 = output_4.str.split(', ')\n",
        "# output_4 = pd.DataFrame(output_4.tolist())\n",
        "# output_4 = output_4.iloc[:,:3]\n",
        "o_4 = pd.DataFrame((pd.DataFrame(output_4.tolist())).iloc[:,:3])#,columns = ['genre1','genre2','genre3'])\n",
        "# print(len(input_4.index)) # size of dataset\n",
        "# print(output_4[1]) # example genre output"
      ],
      "metadata": {
        "id": "hbUZRfqDLMBI",
        "colab": {
          "base_uri": "https://localhost:8080/"
        },
        "outputId": "a0a1b078-25aa-4c07-c2ba-be261f9b3ba9"
      },
      "execution_count": null,
      "outputs": [
        {
          "output_type": "stream",
          "name": "stdout",
          "text": [
            "               0        1         2\n",
            "0      Animation   Comedy    Family\n",
            "1      Adventure  Fantasy    Family\n",
            "2        Romance   Comedy      None\n",
            "3         Comedy    Drama   Romance\n",
            "4         Comedy     None      None\n",
            "...          ...      ...       ...\n",
            "45461      Drama   Family      None\n",
            "45462      Drama     None      None\n",
            "45463     Action    Drama  Thriller\n",
            "45464       None     None      None\n",
            "45465       None     None      None\n",
            "\n",
            "[45466 rows x 3 columns]\n"
          ]
        }
      ]
    },
    {
      "cell_type": "markdown",
      "source": [
        "Split into training, validation, and test data"
      ],
      "metadata": {
        "id": "4aCQ7e8-MG50"
      }
    },
    {
      "cell_type": "code",
      "source": [
        "# print(o_1)\n",
        "inputs = pd.DataFrame(pd.concat([input_1,input_2,input_3,input_4]),columns=['Synopses'])\n",
        "outputs = pd.concat([o_1,o_2,o_3,o_4])\n",
        "# print(outputs) # example of what the output genre data looks like\n",
        "# print(inputs)"
      ],
      "metadata": {
        "colab": {
          "base_uri": "https://localhost:8080/"
        },
        "id": "A3Kzt4DP_j5X",
        "outputId": "a9fe6d77-d7e4-4c65-a3fa-932c670bca36"
      },
      "execution_count": null,
      "outputs": [
        {
          "output_type": "stream",
          "name": "stdout",
          "text": [
            "                0           1          2\n",
            "0       Animation      Comedy     Family\n",
            "1       Adventure     Fantasy     Family\n",
            "2         Romance      Comedy       None\n",
            "3          Comedy       Drama    Romance\n",
            "4          Comedy        None       None\n",
            "..            ...         ...        ...\n",
            "10          Drama   Feel-Good  Adventure\n",
            "11         Comedy     Romance     Family\n",
            "12         Action    Thriller       None\n",
            "13          Drama  Historical       None\n",
            "14  Coming of Age   Adventure  Animation\n",
            "\n",
            "[52448 rows x 3 columns]\n",
            "                                             Synopses\n",
            "0   Led by Woody, Andy's toys live happily in his ...\n",
            "1   When siblings Judy and Peter discover an encha...\n",
            "2   A family wedding reignites the ancient feud be...\n",
            "3   Cheated on, mistreated and stepped on, the wom...\n",
            "4   Just when George Banks has recovered from his ...\n",
            "..                                                ...\n",
            "10  A boy is wrongfully sent to a brutal camp, whe...\n",
            "11  Sam (Hilary Duff), a teenager in California, i...\n",
            "12  When she was young, Ja-yoon escaped from a gov...\n",
            "13  In 1980, a foreign journalist hires a down-on-...\n",
            "14  In this animated feature by noted Japanese dir...\n",
            "\n",
            "[52448 rows x 1 columns]\n"
          ]
        }
      ]
    },
    {
      "cell_type": "code",
      "source": [
        "# print(inputs)\n",
        "# csv_data = inputs.append(outputs)\n",
        "csv_data = pd.concat([inputs, outputs],axis=1)\n",
        "# print(csv_data)"
      ],
      "metadata": {
        "colab": {
          "base_uri": "https://localhost:8080/"
        },
        "id": "jA73Fn8O4Pla",
        "outputId": "1e99ac6d-c7c2-4037-afd2-828a4c6a1d09"
      },
      "execution_count": null,
      "outputs": [
        {
          "output_type": "stream",
          "name": "stdout",
          "text": [
            "                                             Synopses\n",
            "0   Led by Woody, Andy's toys live happily in his ...\n",
            "1   When siblings Judy and Peter discover an encha...\n",
            "2   A family wedding reignites the ancient feud be...\n",
            "3   Cheated on, mistreated and stepped on, the wom...\n",
            "4   Just when George Banks has recovered from his ...\n",
            "..                                                ...\n",
            "10  A boy is wrongfully sent to a brutal camp, whe...\n",
            "11  Sam (Hilary Duff), a teenager in California, i...\n",
            "12  When she was young, Ja-yoon escaped from a gov...\n",
            "13  In 1980, a foreign journalist hires a down-on-...\n",
            "14  In this animated feature by noted Japanese dir...\n",
            "\n",
            "[52448 rows x 1 columns]\n",
            "                                             Synopses              0  \\\n",
            "0   Led by Woody, Andy's toys live happily in his ...      Animation   \n",
            "1   When siblings Judy and Peter discover an encha...      Adventure   \n",
            "2   A family wedding reignites the ancient feud be...        Romance   \n",
            "3   Cheated on, mistreated and stepped on, the wom...         Comedy   \n",
            "4   Just when George Banks has recovered from his ...         Comedy   \n",
            "..                                                ...            ...   \n",
            "10  A boy is wrongfully sent to a brutal camp, whe...          Drama   \n",
            "11  Sam (Hilary Duff), a teenager in California, i...         Comedy   \n",
            "12  When she was young, Ja-yoon escaped from a gov...         Action   \n",
            "13  In 1980, a foreign journalist hires a down-on-...          Drama   \n",
            "14  In this animated feature by noted Japanese dir...  Coming of Age   \n",
            "\n",
            "             1          2  \n",
            "0       Comedy     Family  \n",
            "1      Fantasy     Family  \n",
            "2       Comedy       None  \n",
            "3        Drama    Romance  \n",
            "4         None       None  \n",
            "..         ...        ...  \n",
            "10   Feel-Good  Adventure  \n",
            "11     Romance     Family  \n",
            "12    Thriller       None  \n",
            "13  Historical       None  \n",
            "14   Adventure  Animation  \n",
            "\n",
            "[52448 rows x 4 columns]\n"
          ]
        }
      ]
    },
    {
      "cell_type": "code",
      "source": [
        "csv_data.to_csv('inputData.csv')"
      ],
      "metadata": {
        "id": "_ymNmoiGB5tV"
      },
      "execution_count": null,
      "outputs": []
    },
    {
      "cell_type": "markdown",
      "source": [
        "###Old code - simply for reference, we went forward with the code above that looked at the inputData.csv"
      ],
      "metadata": {
        "id": "GN9nA7ufQyhZ"
      }
    },
    {
      "cell_type": "code",
      "source": [
        "import pandas as pd \n",
        "import json\n",
        "\n",
        "def extract_genre(x):\n",
        "  \"\"\"\n",
        "  Helper function for extracting genre from the Kaggle Movies dataset\n",
        "  \"\"\"\n",
        "  for i in range(len(x)):\n",
        "    x[i] = x[i]['name']\n",
        "  return x\n",
        "\n",
        "# Movies dataset (movies_metadata.csv)\n",
        "# we want features: 'genres' (label), 'overview' (input)\n",
        "df_1 = pd.read_csv('movies_metadata.csv',low_memory = False) # low_memory is set to False to avoid dtype warning\n",
        "# print(df_1.columns)\n",
        "input_1 = df_1['overview']\n",
        "output_1 = df_1['genres']\n",
        "\n",
        "# data in kaggle dataset is in the form: '[{'id': 12, 'name': 'Adventure'},..'\n",
        "# we want to extract the name of genres to a list of the form: ['Adventure',..]\n",
        "output_1 = output_1.apply(lambda x: json.loads(x.replace(\"'\", '\"'))) # make the string into a list of dictionaries\n",
        "output_1 = output_1.apply(extract_genre) # get the genre from the dictionaries\n",
        "\n",
        "# print(len(input_1.index)) # size of dataset\n",
        "# print(output_1[1]) # example genre output\n",
        "\n",
        "# Netflix dataset (netflixData.csv)\n",
        "# features: 'genres' (label), 'description' (input)\n",
        "df_2 = pd.read_csv('netflixData.csv')\n",
        "# print(df_2.columns)\n",
        "input_2 = df_2['Description']\n",
        "output_2 = df_2['Genres']\n",
        "\n",
        "output_2 = output_2.str.split(', ') # make genres a list\n",
        "# print(len(input_2.index)) # size of dataset\n",
        "# print(output_2[2]) # example genre output\n",
        "\n",
        "# IMDB dataset (imdb_top_1000.csv)\n",
        "# features: 'Genre' (label), 'Overview' (input)\n",
        "df_3 = pd.read_csv('imdb_top_1000.csv')\n",
        "# print(df_3.columns)\n",
        "input_3 = df_3['Overview']\n",
        "output_3 = df_3['Genre']\n",
        "\n",
        "output_3 = output_3.str.split(', ') # make genres a list\n",
        "# print(len(input_3.index)) # size of dataset\n",
        "# print(output_3[1]) # example genre output\n",
        "\n",
        "# Human classification dataset (human_classification_training.csv)\n",
        "df_4 = pd.read_csv('human_classification_training.csv')\n",
        "# print(df_4.columns)\n",
        "input_4 = df_4['Synopsis']\n",
        "output_4 = df_4['Genre']\n",
        "\n",
        "output_4 = output_4.str.split(', ')\n",
        "# print(len(input_4.index)) # size of dataset\n",
        "# print(output_4[1]) # example genre output"
      ],
      "metadata": {
        "id": "k-xuM5VAzzCg"
      },
      "execution_count": null,
      "outputs": []
    },
    {
      "cell_type": "code",
      "source": [
        "# combine all inputs together\n",
        "inputs = pd.DataFrame(pd.concat([input_1,input_2,input_3,input_4]),columns=['synopses'])\n",
        "outputs = pd.concat([output_1, output_2,output_3,output_4])\n",
        "# outputs.rename(columns={'0' : 'g1'})\n",
        "print(inputs) # example of what the output genre data looks like\n"
      ],
      "metadata": {
        "id": "TIdUuzXcMJTH",
        "colab": {
          "base_uri": "https://localhost:8080/"
        },
        "outputId": "6bf77fa8-32c4-4bbc-d1b0-cfa59935cc12"
      },
      "execution_count": null,
      "outputs": [
        {
          "output_type": "stream",
          "name": "stdout",
          "text": [
            "Index(['synopses'], dtype='object')\n",
            "                                             synopses\n",
            "0   Led by Woody, Andy's toys live happily in his ...\n",
            "1   When siblings Judy and Peter discover an encha...\n",
            "2   A family wedding reignites the ancient feud be...\n",
            "3   Cheated on, mistreated and stepped on, the wom...\n",
            "4   Just when George Banks has recovered from his ...\n",
            "..                                                ...\n",
            "10  A boy is wrongfully sent to a brutal camp, whe...\n",
            "11  Sam (Hilary Duff), a teenager in California, i...\n",
            "12  When she was young, Ja-yoon escaped from a gov...\n",
            "13  In 1980, a foreign journalist hires a down-on-...\n",
            "14  In this animated feature by noted Japanese dir...\n",
            "\n",
            "[52448 rows x 1 columns]\n"
          ]
        }
      ]
    },
    {
      "cell_type": "code",
      "source": [
        "# get train validate test split of data\n",
        "from sklearn.model_selection import train_test_split\n",
        "\n",
        "# 80% train : 10% validation : 10% test\n",
        "X_train, X_test, y_train, y_test = train_test_split(inputs, outputs,\n",
        "    test_size=0.2, shuffle = True, random_state = 8)\n",
        "\n",
        "# get validation split from test dataset\n",
        "X_val, X_test, y_val, y_test = train_test_split(X_test, y_test, \n",
        "    test_size=0.5, random_state= 8) \n"
      ],
      "metadata": {
        "id": "99y1aZ2NA_mN"
      },
      "execution_count": null,
      "outputs": []
    }
  ]
}